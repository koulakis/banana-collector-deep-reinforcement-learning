{
 "cells": [
  {
   "cell_type": "markdown",
   "metadata": {},
   "source": [
    "# Project 1: Navigation\n",
    "Several architectures and hyper-parameter setups were considered for solving the problem. All of them reached the\n",
    "average score of 13+ on 100 consecutive runs, so we will focus here on comparing the most prominent setups based on\n",
    "their top scores and how many episodes they needed to solve the navigation problem."
   ]
  },
  {
   "cell_type": "markdown",
   "metadata": {},
   "source": [
    "## Q-Network architectures\n",
    "### Comparing the performance of some architectures\n",
    "In the core of each agent was a network which estimated the Q-function. All networks were fully connected networks\n",
    "consisting solely of linear layers and ReLU activations. Batch normalization was briefly tested, but discarded because\n",
    "it didn't offer any improvement. A couple of different setups were considered and tested on 2000 episodes. Their\n",
    "performances were very comparable as one can see in the following figure:\n",
    "![Comparison of network architectures](artifacts/architecture_comparison.png)\n",
    "- The numbers separated by `_` designate the\n",
    "width of each dense layer of the network\n",
    "- The vertical dashed lines mark the first episode where the average score surpassed 13\n",
    "\n",
    "Based on the similarity of the results, the network with three hidden layers of widths (64, 64, 64) was picked in order\n",
    "to make sure the performance of setups to be tested is not hindered by a lack of network capacity. This architecture\n",
    "was fix throughout all of the experiments described below.\n",
    "\n",
    "### Dueling DQN\n",
    "A second network is defined which implements the dueling DQN architecture. The output of the last 64 width layer of the\n",
    "(64, 64, 64) network mentioned above is used as input to 2 dense networks which compute respectively the value of the\n",
    "input state and the advantage of the state-action combination. The Q function is then computed as follows:\n",
    "\n",
    "$Q(s, a) = V(s) + (A(s, a) - E_{a'\\in\\mathcal{A}}[A(s, a')])$\n",
    "\n",
    "Both the A and V networks have two layer with sizes (64, 32) and they output respectively $|\\mathcal{A}|$ and 1\n",
    "values.\n",
    "\n",
    "The rest of the training process of the network remains the same and the premise is that the agent will learn both\n",
    "long-term strategies leading to better values (e.g. moving to areas with higher yellow to blue banana ration) and\n",
    "short-term strategies (e.g. collecting yellow bananas and avoiding blue ones), leading to a better performance.\n",
    "\n",
    "For more on dueling DQN, look at the (paper which introduced the method)[https://arxiv.org/abs/1511.06581]."
   ]
  },
  {
   "cell_type": "markdown",
   "metadata": {},
   "source": [
    "## Network Training setup\n",
    "### Hyper parameters\n",
    "The hyper parameters directly related to the network training were the following:\n",
    "- learning rate: Check the section below\n",
    "- batch size: This was fixed to 64\n",
    "- hidden layers: This set the number of hidden layers of the backbone fully connected network and their with. After a\n",
    "    short experimentation was fixed to (64, 64, 64)\n",
    "- dueling_dqn: Flag to toggle use of the dueling DQN architecture\n",
    "    \n",
    "### Learning rate\n",
    "It was initially set to 1e-5 but after a couple of experiments, it was evident that the network would benefit from a\n",
    "higher value, at least on the first episodes. This let to using the relatively high rate of 1e-3 in the beginning of\n",
    "training and later on decreasing it on plateaus with a scheduler provided by PyTorch. This was a crucial step, as it\n",
    " helped the network train fast and reach the value of 13 earlier than before and also stabilized it later on and allowed\n",
    " to exceed the previous maximum value of ~17 and also reduce score oscillations on the second half of training."
   ]
  },
  {
   "cell_type": "markdown",
   "metadata": {},
   "source": [
    "## Q-Learning setup\n",
    "### Hyper parameters\n",
    "The following hyper parameters were used for the Q-learning parts not directly related to the network:\n",
    "- number_of_episodes: This was fixed to 2000 for all experiments\n",
    "- maximum_timestaps: 1000\n",
    "- initial_epsilon: The exploration rate started from 1.0\n",
    "- final_epsilon: Then decayed to 0.01\n",
    "- epsilon_decay: With a decay rate of 0.995\n",
    "- double_dqn: Flag to toggle use of double DQN\n",
    "- prioritize_replay: Flag to toggle use of priority experience replay\n",
    "- per_alpha: In case prioritized replay is on, set its constant alpha\n",
    "- per_beta_0: In case prioritized replay is on, set the initial value of $\\beta$. $\\beta$ will decay linearly\n",
    "    starting from $\\beta_0$ on the first episode and becoming 1.0 on the last episode.\n",
    "    \n",
    "### Double DQN\n",
    "\n",
    "\n",
    "### Prioritized experience replay\n",
    "Prioritized replay controls how the examples used to train the model are picked. Namely, a probability function defined\n",
    "over all examples gathered in the replay buffer is used and assigns higher probabilities to examples whose Q values\n",
    "estimated using actual rewards deviate more from the Q values computed directly from the Q-network. The implementation\n",
    "involved the introduction of a new buffer which stores priorities along with updates based on the aforementioned errors\n",
    "and also samples based on the distribution defined by them.\n",
    "\n",
    "In order to make sampling efficient, one has to introduce an efficient structure such as a sum tree. This was avoided\n",
    "here in order to save time and was not a real problem given that the number of episodes was fairly low. A couple of\n",
    "cheap caching tricks (mainly on the calculation of the maximum priority) were enough to make the implementation \n",
    "fast enough.\n",
    "\n",
    "For more on prioritized replay, look at the (paper which introduced the method)[https://arxiv.org/abs/1511.05952].\n",
    "\n",
    "### CPU vs GPU\n",
    "Given the small size of the networks used and the fact there is a constant conversion from tensors to numpy arrays,\n",
    "it is faster training on cpu, probably because of avoiding intermediate translation steps. If a version of Unity\n",
    "native to PyTorch was available, then probably one could get significant gains.\n"
   ]
  },
  {
   "cell_type": "markdown",
   "metadata": {},
   "source": [
    "## Most prominent setups\n",
    "### Setups\n",
    "### Reward comparison"
   ]
  },
  {
   "cell_type": "markdown",
   "metadata": {},
   "source": [
    "## Future ideas to improve performance\n",
    "### Error analysis\n",
    "### Use a high level framework\n",
    "### Rainbow\n",
    "### Stratify prioritized experience replay based on novelty"
   ]
  }
 ],
 "metadata": {
  "kernelspec": {
   "display_name": "Python 3",
   "language": "python",
   "name": "python3"
  },
  "language_info": {
   "codemirror_mode": {
    "name": "ipython",
    "version": 3
   },
   "file_extension": ".py",
   "mimetype": "text/x-python",
   "name": "python",
   "nbconvert_exporter": "python",
   "pygments_lexer": "ipython3",
   "version": "3.6.10"
  }
 },
 "nbformat": 4,
 "nbformat_minor": 4
}
